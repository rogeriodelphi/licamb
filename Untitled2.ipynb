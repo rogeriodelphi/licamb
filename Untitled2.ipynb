{
 "cells": [
  {
   "cell_type": "code",
   "execution_count": 5,
   "id": "9a9aec1b",
   "metadata": {},
   "outputs": [
    {
     "name": "stdout",
     "output_type": "stream",
     "text": [
      "<QuerySet [<Tipologia: A2.2.1>, <Tipologia: A2.2.2>, <Tipologia: A2.2.3>, <Tipologia: A2.2.4>, <Tipologia: A2.2.5>, <Tipologia: A2.3.1>, <Tipologia: A2.3.2>, <Tipologia: A2.3.3>]>\n"
     ]
    }
   ],
   "source": [
    "tipologias = Tipologia.objects.all()\n",
    "print(tipologias)"
   ]
  },
  {
   "cell_type": "code",
   "execution_count": null,
   "id": "fada7cfd",
   "metadata": {},
   "outputs": [],
   "source": []
  }
 ],
 "metadata": {
  "kernelspec": {
   "display_name": "Django Shell-Plus",
   "language": "python",
   "name": "django_extensions"
  },
  "language_info": {
   "codemirror_mode": {
    "name": "ipython",
    "version": 3
   },
   "file_extension": ".py",
   "mimetype": "text/x-python",
   "name": "python",
   "nbconvert_exporter": "python",
   "pygments_lexer": "ipython3",
   "version": "3.8.7"
  }
 },
 "nbformat": 4,
 "nbformat_minor": 5
}
